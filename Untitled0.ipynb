{
  "nbformat": 4,
  "nbformat_minor": 0,
  "metadata": {
    "colab": {
      "name": "Untitled0.ipynb",
      "provenance": [],
      "authorship_tag": "ABX9TyN7n49ikb0+GVbymAlNgYkS",
      "include_colab_link": true
    },
    "kernelspec": {
      "name": "python3",
      "display_name": "Python 3"
    },
    "language_info": {
      "name": "python"
    }
  },
  "cells": [
    {
      "cell_type": "markdown",
      "metadata": {
        "id": "view-in-github",
        "colab_type": "text"
      },
      "source": [
        "<a href=\"https://colab.research.google.com/github/Jaga1311/Phyton_Test/blob/main/Untitled0.ipynb\" target=\"_parent\"><img src=\"https://colab.research.google.com/assets/colab-badge.svg\" alt=\"Open In Colab\"/></a>"
      ]
    },
    {
      "cell_type": "code",
      "execution_count": 5,
      "metadata": {
        "colab": {
          "base_uri": "https://localhost:8080/"
        },
        "id": "CV4O1ZAaxsgg",
        "outputId": "dcff3c2e-cc13-40ea-e2ad-5cc778eff48e"
      },
      "outputs": [
        {
          "output_type": "stream",
          "name": "stdout",
          "text": [
            "What is your name ? j\n",
            "Welcome j\n",
            "What is your Birth Year ? 1992\n",
            "Are you Serious ? 30\n",
            "Yes or No ? yes\n",
            "What is your name ? j\n",
            "Welcome J!!\n",
            "What is your Weight ? 76\n",
            "76.0\n",
            "(K)g or (L)bs ? K\n",
            "7.6000000000000005\n"
          ]
        }
      ],
      "source": [
        "\n",
        "Name = input(\"What is your name ? \")\n",
        "print(\"Welcome \" + Name)\n",
        "Age= input(\"What is your Birth Year ? \")\n",
        "Year=2022-int(Age)\n",
        "print(\"Are you Serious ? \" + str(Year))\n",
        "Choice=input(\"Yes or No ? \");\n",
        "\n",
        "\n",
        "\n",
        "\n",
        "Name = input(\"What is your name ? \")\n",
        "print(\"Welcome \" + Name.upper() + \"!!\")\n",
        "Weight=float(input(\"What is your Weight ? \"))\n",
        "print(Weight)\n",
        "Choice=input(\"(K)g or (L)bs ? \")\n",
        "if Choice==\"K\":\n",
        "    print(Weight*0.1)\n",
        "elif Choice==\"L\":\n",
        "    print(Weight*0.5)\n",
        "else:\n",
        "    print(\"Choose correct options \");"
      ]
    }
  ]
}