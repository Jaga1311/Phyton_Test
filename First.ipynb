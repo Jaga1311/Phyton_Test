{
  "nbformat": 4,
  "nbformat_minor": 0,
  "metadata": {
    "colab": {
      "name": "Untitled0.ipynb",
      "provenance": [],
      "authorship_tag": "ABX9TyNUqRjbYcGP1bPviGDFYnZF",
      "include_colab_link": true
    },
    "kernelspec": {
      "name": "python3",
      "display_name": "Python 3"
    },
    "language_info": {
      "name": "python"
    }
  },
  "cells": [
    {
      "cell_type": "markdown",
      "metadata": {
        "id": "view-in-github",
        "colab_type": "text"
      },
      "source": [
        "<a href=\"https://colab.research.google.com/github/Jaga1311/Phyton_Test/blob/main/First.ipynb\" target=\"_parent\"><img src=\"https://colab.research.google.com/assets/colab-badge.svg\" alt=\"Open In Colab\"/></a>"
      ]
    },
    {
      "cell_type": "code",
      "execution_count": 4,
      "metadata": {
        "colab": {
          "base_uri": "https://localhost:8080/"
        },
        "id": "CV4O1ZAaxsgg",
        "outputId": "6d79f64c-f3f9-45b9-dc88-712347b12176"
      },
      "outputs": [
        {
          "name": "stdout",
          "output_type": "stream",
          "text": [
            "What is your name ? Jagadish\n",
            "Welcome Jagadish\n",
            "What is your Birth Year ? 1989\n",
            "Are you Serious ? 33\n",
            "Yes or No ? Yes\n"
          ]
        }
      ],
      "source": [
        "\n",
        "Name = input(\"What is your name ? \")\n",
        "print(\"Welcome \" + Name)\n",
        "Age= input(\"What is your Birth Year ? \")\n",
        "Year=2022-int(Age)\n",
        "print(\"Are you Serious ? \" + str(Year))\n",
        "Choice=input(\"Yes or No ? \")"
      ]
    }
  ]
}